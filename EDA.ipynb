{
 "cells": [
  {
   "cell_type": "code",
   "execution_count": null,
   "id": "80fc124b",
   "metadata": {
    "vscode": {
     "languageId": "plaintext"
    }
   },
   "outputs": [],
   "source": [
    "import pandas as pd\n",
    "import matplotlib.pyplot as plt\n",
    "import seaborn as sns\n",
    "from tabulate import tabulate\n",
    "\n",
    "sns.set(style=\"whitegrid\")\n",
    "\n",
    "df = pd.read_csv('dados.csv')\n",
    "\n",
    "print(f\"\\nNúmero de linhas e colunas: {df.shape}\\n\")\n",
    "print(tabulate(df.head(10), headers='keys', tablefmt='pretty'))\n",
    "print(df.info())\n",
    "print(df.describe())\n",
    "\n",
    "# Limpeza dos dados\n",
    "df['Released_Year'] = pd.to_numeric(df['Released_Year'], errors='coerce')\n",
    "df.dropna(subset=['Released_Year'], inplace=True)\n",
    "df['Released_Year'] = df['Released_Year'].astype(int)\n",
    "df['Runtime'] = df['Runtime'].str.extract('(\\d+)').astype(int)\n",
    "\n",
    "# Histograma IMDB_Rating\n",
    "plt.figure(figsize=(10,6))\n",
    "sns.histplot(df['IMDB_Rating'], bins=20, kde=True)\n",
    "plt.title('Distribuição das Avaliações IMDB')\n",
    "plt.xlabel('IMDB Rating')\n",
    "plt.ylabel('Número de Filmes')\n",
    "plt.show()\n",
    "\n",
    "df_genres = df.assign(Genre=df['Genre'].str.split(', ')).explode('Genre')\n",
    "\n",
    "media_generos = df_genres.groupby('Genre')['IMDB_Rating'].mean().sort_values(ascending=False)\n",
    "\n",
    "# Scatterplot\n",
    "plt.figure(figsize=(15,6))\n",
    "sns.scatterplot(data=df, x='Runtime', y='IMDB_Rating')\n",
    "plt.title('Avaliação IMDB x Duração do Filme')\n",
    "plt.xlabel('Duração (minutos)')\n",
    "plt.ylabel('IMDB Rating')\n",
    "plt.show()\n",
    "\n",
    "# Gêneros bem avaliados\n",
    "limite = 8  \n",
    "generos_maiores_avaliacoes = media_generos[media_generos > limite]\n",
    "print(f\"\\nGêneros com média de IMDB acima de {limite}:\")\n",
    "print(generos_maiores_avaliacoes)\n",
    "print(\"Número de gêneros com maiores avaliações:\", len(generos_maiores_avaliacoes))\n",
    "\n",
    "if len(generos_maiores_avaliacoes) > 0:\n",
    "    plt.figure(figsize=(10,6))\n",
    "    sns.barplot(x=generos_maiores_avaliacoes.index, \n",
    "                y=generos_maiores_avaliacoes.values, \n",
    "                palette=\"Blues_r\")\n",
    "    plt.title(f'Gêneros com média de IMDB acima de {limite}', fontsize=16)\n",
    "    plt.ylabel('Média IMDB', fontsize=12)\n",
    "    plt.xlabel('Gênero', fontsize=12)\n",
    "    plt.xticks(rotation=45)\n",
    "    plt.ylim(generos_maiores_avaliacoes.min() - 0.1, generos_maiores_avaliacoes.max() + 0.1)\n",
    "    plt.show()\n",
    "else:\n",
    "    print(\"Nenhum gênero acima do limite definido.\")\n",
    "\n",
    "series_top = df[df['IMDB_Rating'] > 8][['Series_Title', 'Released_Year', 'IMDB_Rating']]\n",
    "print(tabulate(series_top.head(20), headers='keys', tablefmt='pretty'))\n"
   ]
  }
 ],
 "metadata": {
  "language_info": {
   "name": "python"
  }
 },
 "nbformat": 4,
 "nbformat_minor": 5
}
